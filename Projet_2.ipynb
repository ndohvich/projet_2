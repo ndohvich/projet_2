{
  "nbformat": 4,
  "nbformat_minor": 0,
  "metadata": {
    "colab": {
      "name": "Projet_2.ipynb",
      "provenance": [],
      "authorship_tag": "ABX9TyMIvG6OAeK4UUM3zJiwjP2t"
    },
    "kernelspec": {
      "name": "python3",
      "display_name": "Python 3"
    },
    "language_info": {
      "name": "python"
    }
  },
  "cells": [
    {
      "cell_type": "code",
      "execution_count": null,
      "metadata": {
        "id": "QY7Aq7-vy57c"
      },
      "outputs": [],
      "source": [
        ""
      ]
    }
  ]
}