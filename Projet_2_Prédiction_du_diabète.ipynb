{
  "nbformat": 4,
  "nbformat_minor": 0,
  "metadata": {
    "colab": {
      "name": "Projet_2 : Prédiction du diabète.ipynb",
      "provenance": [],
      "authorship_tag": "ABX9TyO1TK+IG4Q6KZS4XM6TpWkJ",
      "include_colab_link": true
    },
    "kernelspec": {
      "name": "python3",
      "display_name": "Python 3"
    },
    "language_info": {
      "name": "python"
    }
  },
  "cells": [
    {
      "cell_type": "markdown",
      "metadata": {
        "id": "view-in-github",
        "colab_type": "text"
      },
      "source": [
        "<a href=\"https://colab.research.google.com/github/ndohvich/projet_2/blob/main/Projet_2_Pr%C3%A9diction_du_diab%C3%A8te.ipynb\" target=\"_parent\"><img src=\"https://colab.research.google.com/assets/colab-badge.svg\" alt=\"Open In Colab\"/></a>"
      ]
    },
    {
      "cell_type": "markdown",
      "source": [
        "Importation des bibliothèques "
      ],
      "metadata": {
        "id": "dPM4zM7B-hek"
      }
    },
    {
      "cell_type": "code",
      "source": [
        "import numpy as np\n",
        "import pandas as pd\n",
        "from sklearn.preprocessing import StandardScaler\n",
        "from sklearn.model_selection import train_test_split\n",
        "from sklearn import svm\n",
        "from sklearn.metrics import accuracy_score"
      ],
      "metadata": {
        "id": "HljGXHbKgIYs"
      },
      "execution_count": 3,
      "outputs": []
    },
    {
      "cell_type": "markdown",
      "source": [
        "Collecte et Analyse des données\n"
      ],
      "metadata": {
        "id": "fQvZkHczDQ3v"
      }
    }
  ]
}